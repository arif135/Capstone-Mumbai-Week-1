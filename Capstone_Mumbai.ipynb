{
 "cells": [
  {
   "cell_type": "markdown",
   "metadata": {},
   "source": [
    "# Capstone Project - The Battle of Neighborhoods - Week One\n",
    "### Applied Data Science Capstone "
   ]
  },
  {
   "cell_type": "markdown",
   "metadata": {},
   "source": [
    "## Table of contents\n",
    "* [Introduction: Business Problem](#introduction)\n",
    "* [Data Description](#data)"
   ]
  },
  {
   "cell_type": "markdown",
   "metadata": {},
   "source": [
    "## Introduction: Business Problem <a name=\"introduction\"></a>"
   ]
  },
  {
   "cell_type": "markdown",
   "metadata": {},
   "source": [
    "#### *Description & Disscusion of the Background:*\n",
    "\n",
    "**Mumbai is the financial capital of India.** People from all over India come to Mumbai to earn a livelihood. Due to this, the population of Mumbai has increased tremendously. With the increase in population comes the problem of housing. As the demand of housing increases so do the prices. As residential property rate's\n",
    "increase it will get difficult for the normal or say middle income group people to buy their own house in the city.\n",
    "\n",
    "They will have to travel from the outskirts of the city which is very time consuming and the facilities there are not upto the mark. That is there are no shopping malls there, less number of quality schools, colleges, hospitals and restaurents and so on. \n",
    "\n",
    "**So Investors want to find out places in Mumbai where there could develop residential buildings which could be affordable to the middle income group people.** These places should be low in rates when compared to other places in the city and should have good connectivity to all the facilities.\n",
    "\n",
    "We will create maps and using Foursquare API will explore these low price rate neighbourshoods and find out whether all the facilities are available to them. Thus Investors will be confident that their products that is the residential buildings will have a good chance of being sold out. \n"
   ]
  },
  {
   "cell_type": "markdown",
   "metadata": {},
   "source": [
    "## Data Description <a name=\"data\"></a>"
   ]
  },
  {
   "cell_type": "markdown",
   "metadata": {},
   "source": [
    "We have collected the data of location and property rates per square feet from the website 'https://www.mumbaipropertyexchange.com/research/mumbai-property-rates'.\n",
    "We have filtered out **30 locations which are uniformly distributed in the city of Mumbai** from this website.\n",
    "\n",
    "As the latitudes and longitudes of these places were not readily available we have individually searched for their latitudes and longitudes and added them to our database.\n",
    "\n",
    "**The above data will help us to solve our problems as follow:**\n",
    "\n",
    "* The per square feet rate prices of residential buildings will help us to find the places **where the rates are less** when compared to the other parts of the city.\n",
    "\n",
    "*  **Using Foursquare API,** the latitudes and longitudes will help us to explore these location and decide whether these places are suitable for affordable housing."
   ]
  },
  {
   "cell_type": "code",
   "execution_count": null,
   "metadata": {},
   "outputs": [],
   "source": []
  }
 ],
 "metadata": {
  "kernelspec": {
   "display_name": "Python 3",
   "language": "python",
   "name": "python3"
  },
  "language_info": {
   "codemirror_mode": {
    "name": "ipython",
    "version": 3
   },
   "file_extension": ".py",
   "mimetype": "text/x-python",
   "name": "python",
   "nbconvert_exporter": "python",
   "pygments_lexer": "ipython3",
   "version": "3.7.3"
  }
 },
 "nbformat": 4,
 "nbformat_minor": 4
}
